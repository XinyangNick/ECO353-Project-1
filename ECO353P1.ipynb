{
 "cells": [
  {
   "cell_type": "code",
   "execution_count": 22,
   "id": "c8039823",
   "metadata": {},
   "outputs": [],
   "source": [
    "import pandas as pd\n",
    "import numpy as np\n",
    "import matplotlib.pyplot as plt\n",
    "import glob"
   ]
  },
  {
   "cell_type": "code",
   "execution_count": 39,
   "id": "677aa6ad",
   "metadata": {
    "scrolled": true
   },
   "outputs": [],
   "source": [
    "path = '/Users/nick0o0o0/Library/Mobile Documents/com~apple~CloudDocs/gxyfile/third_year/ECO353/Assignment/project1/data/'\n",
    "\n",
    "NBA_attend = pd.read_csv(path + 'NBA Attend Index.csv')\n",
    "NBA_revenue = pd.read_csv(path+ 'Finance.csv')"
   ]
  },
  {
   "cell_type": "code",
   "execution_count": 43,
   "id": "e2bfa1a9",
   "metadata": {},
   "outputs": [
    {
     "name": "stdout",
     "output_type": "stream",
     "text": [
      "{'Vancouver Grizzlies', 'Phoenix', 'Dallas', 'Memphis', 'New York', 'Orlando Magic', 'Utah', 'Portland', 'Boston', 'Milwaukee', 'Oklahoma City Thunder', 'Miami Heat', 'Indiana Pacers', 'Boston Celtics', 'Portland Trail Blazers', 'Sacramento', 'Charlotte Bobcats', 'Denver', 'Toronto', 'Washington Wizards', 'New York Knicks', 'Houston Rockets', 'Orlando', 'Seattle Supersonics', 'Dallas Mavericks', 'Cleveland Cavaliers', 'New Jersey Nets', 'Chicago', 'Oklahoma City', 'San Antonio Spurs', 'Atlanta', 'Indiana', 'Brooklyn Nets', 'Philadelphia', 'Charlotte', 'Milwaukee Bucks', 'New Jersey', 'New Orleans Pelicans', 'Los Angeles Lakers', 'Toronto Raptors', 'Atlanta Hawks', 'Utah Jazz', 'Denver Nuggets', 'Sacramento Kings', 'Detroit', 'Miami', 'Memphis Grizzlies', 'San Antonio', 'Washington', 'Dallas Mavericks/', 'League Average', 'New Orleans', 'Minnesota', 'Los Angeles Clippers', 'Chicago Bulls', 'New Orleans Hornets', 'Phoenix Suns', 'Detroit Pistons', 'Charlotte Hornets', 'Minnesota Timberwolves', 'Golden State', 'Golden State Warriors', 'Houston', 'Cleveland', 'Philadelphia 76Ers'}\n"
     ]
    }
   ],
   "source": [
    "NBA_revenue['Team'] = NBA_revenue['Team'].str.title()\n",
    "print(set(NBA_revenue['Team']))"
   ]
  },
  {
   "cell_type": "code",
   "execution_count": 44,
   "id": "a77ccddf",
   "metadata": {},
   "outputs": [],
   "source": [
    "team_city_dict = {'Vancouver Grizzlies': 'Vancouver', 'Phoenix': 'Phoenix', 'Dallas': 'Dallas', 'Memphis': 'Memphis', 'New York': 'New York', 'Orlando Magic': 'Orlando', 'Utah': 'Utah', 'Portland': 'Portland', 'Boston': 'Boston', 'Milwaukee': 'Milwaukee', 'Oklahoma City Thunder': 'Oklahoma City', 'Miami Heat': 'Miami', 'Indiana Pacers': 'Indiana', 'Boston Celtics': 'Boston', 'Portland Trail Blazers': 'Portland', 'Sacramento': 'Sacramento', 'Charlotte Bobcats': 'Charlotte', 'Denver': 'Denver', 'Toronto': 'Toronto', 'Washington Wizards': 'Washington', 'New York Knicks': 'New York', 'Houston Rockets': 'Houston', 'Orlando': 'Orlando', 'Seattle Supersonics': 'Seattle', 'Dallas Mavericks': 'Dallas', 'Cleveland Cavaliers': 'Cleveland', 'New Jersey Nets': 'New Jersey', 'Chicago': 'Chicago', 'Oklahoma City': 'Oklahoma City', 'San Antonio Spurs': 'San Antonio', 'Atlanta': 'Atlanta', 'Indiana': 'Indiana', 'Brooklyn Nets': 'Brooklyn', 'Philadelphia': 'Philadelphia', 'Charlotte': 'Charlotte', 'Milwaukee Bucks': 'Milwaukee', 'New Jersey': 'New Jersey', 'New Orleans Pelicans': 'New Orleans', 'Los Angeles Lakers': 'Los Angeles', 'Toronto Raptors': 'Toronto', 'Atlanta Hawks': 'Atlanta', 'Utah Jazz': 'Utah', 'Denver Nuggets': 'Denver', 'Sacramento Kings': 'Sacramento', 'Detroit': 'Detroit', 'Miami': 'Miami', 'Memphis Grizzlies': 'Memphis', 'San Antonio': 'San Antonio', 'Washington': 'Washington', 'Dallas Mavericks/': 'Dallas', 'League Average': 'N/A', 'New Orleans': 'New Orleans', 'Minnesota': 'Minnesota', 'Los Angeles Clippers': 'Los Angeles', 'Chicago Bulls': 'Chicago', 'New Orleans Hornets': 'New Orleans', 'Phoenix Suns': 'Phoenix', 'Detroit Pistons': 'Detroit', 'Charlotte Hornets': 'Charlotte', 'Minnesota Timberwolves': 'Minnesota', 'Golden State': 'San Francisco', 'Golden State Warriors': 'San Francisco', 'Houston': 'Houston', 'Cleveland': 'Cleveland', 'Philadelphia 76Ers': 'Philadelphia'}\n",
    "\n",
    "NBA_revenue['City'] = NBA_revenue['Team'].map(team_city_dict)"
   ]
  },
  {
   "cell_type": "code",
   "execution_count": 47,
   "id": "29da092a",
   "metadata": {
    "scrolled": false
   },
   "outputs": [
    {
     "data": {
      "text/plain": [
       "{'Atlanta',\n",
       " 'Boston',\n",
       " 'Brooklyn',\n",
       " 'Charlotte',\n",
       " 'Chicago',\n",
       " 'Cleveland',\n",
       " 'Dallas',\n",
       " 'Denver',\n",
       " 'Detroit',\n",
       " 'Houston',\n",
       " 'Indiana',\n",
       " 'Los Angeles',\n",
       " 'Memphis',\n",
       " 'Miami',\n",
       " 'Milwaukee',\n",
       " 'Minnesota',\n",
       " 'N/A',\n",
       " 'New Jersey',\n",
       " 'New Orleans',\n",
       " 'New York',\n",
       " 'Oklahoma City',\n",
       " 'Orlando',\n",
       " 'Philadelphia',\n",
       " 'Phoenix',\n",
       " 'Portland',\n",
       " 'Sacramento',\n",
       " 'San Antonio',\n",
       " 'San Francisco',\n",
       " 'Seattle',\n",
       " 'Toronto',\n",
       " 'Utah',\n",
       " 'Vancouver',\n",
       " 'Washington'}"
      ]
     },
     "execution_count": 47,
     "metadata": {},
     "output_type": "execute_result"
    }
   ],
   "source": [
    "set(NBA_revenue['City'])"
   ]
  },
  {
   "cell_type": "code",
   "execution_count": null,
   "id": "ee00c408",
   "metadata": {},
   "outputs": [],
   "source": [
    "population_income = pd.read_csv(path + 'population_income.csv')\n",
    "\n",
    "# Merge the NBA team data with the population and income level data\n",
    "merged_data = pd.merge(nba_teams, population_income, on=['City', 'Year'], how='left')\n",
    "\n",
    "# For each NBA team, use the latest available population and income level data if the data for the corresponding year is not available\n",
    "latest_data = merged_data.groupby('City').apply(lambda x: x.fillna(method='ffill').fillna(method='backfill'))\n",
    "\n",
    "# Save the merged data to a new CSV file\n",
    "latest_data.to_csv('nba_teams_population_income.csv', index=False)"
   ]
  }
 ],
 "metadata": {
  "kernelspec": {
   "display_name": "Python 3 (ipykernel)",
   "language": "python",
   "name": "python3"
  },
  "language_info": {
   "codemirror_mode": {
    "name": "ipython",
    "version": 3
   },
   "file_extension": ".py",
   "mimetype": "text/x-python",
   "name": "python",
   "nbconvert_exporter": "python",
   "pygments_lexer": "ipython3",
   "version": "3.9.13"
  }
 },
 "nbformat": 4,
 "nbformat_minor": 5
}
